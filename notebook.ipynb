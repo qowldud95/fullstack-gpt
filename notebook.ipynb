{
 "cells": [
  {
   "cell_type": "code",
   "execution_count": null,
   "id": "43f3231b",
   "metadata": {},
   "outputs": [],
   "source": [
    "from langchain.chat_models import ChatOpenAI\n",
    "chat = ChatOpenAI(temperature=0.1)\n",
    "\n",
    "from langchain.prompts import PromptTemplate\n",
    "\n",
    "template = PromptTemplate.from_template(\"{nara}의 수도는 어디인가요? 그리고 당신의 이름은 무엇인가요?\")\n",
    "\n",
    "prompt = template.format(nara=\"대한민국\")\n",
    "\n",
    "chat.predict(prompt)"
   ]
  },
  {
   "cell_type": "code",
   "execution_count": null,
   "id": "e1f80678",
   "metadata": {},
   "outputs": [],
   "source": [
    "from langchain.prompts import ChatPromptTemplate\n",
    "\n",
    "template = ChatPromptTemplate.from_messages([\n",
    "    (\"system\", \"당신은 친절한 AI 비서입니다.\"),\n",
    "    (\"ai\", \"안녕하세요! 저는 지영봇입니다.\") ,\n",
    "    (\"human\", \"{nara}의 수도는 어디인가요? 그리고 당신의 이름은 무엇인가요?\")\n",
    "])\n",
    "\n",
    "prompt = template.format_messages(nara=\"대한민국\")\n",
    "\n",
    "chat.predict_messages(prompt)"
   ]
  },
  {
   "cell_type": "code",
   "execution_count": null,
   "id": "e7111c25",
   "metadata": {},
   "outputs": [],
   "source": [
    "from langchain.prompts import ChatPromptTemplate\n",
    "from langchain.chat_models import ChatOpenAI\n",
    "from langchain.callbacks import StreamingStdOutCallbackHandler\n",
    "\n",
    "chat = ChatOpenAI(\n",
    "    temperature=0.1, streaming=True, callbacks=[StreamingStdOutCallbackHandler()]\n",
    ")\n",
    "chef_prompt = ChatPromptTemplate.from_messages([\n",
    "    (\"system\", \"당신은 요리사입니다. 요리에 대한 레시피를 간단하게 제안합니다.\"),\n",
    "    (\"human\", \"나는 {요리}를 만들기를 원합니다.\")\n",
    "])\n",
    "\n",
    "veg_chef_prompt = ChatPromptTemplate.from_messages([\n",
    "    (\"system\", \"당신은 채식주의자 요리사입니다. 레시피를 채식주의에 맞게 다시 레시피를 간단하게 알려주세요.\"),\n",
    "    (\"human\", \"{레시피}\")\n",
    "])\n",
    "\n",
    "chef_chain = chef_prompt | chat\n",
    "veg_chanin = veg_chef_prompt | chat\n",
    "\n",
    "final_chain = {\"레시피\":chef_chain} | veg_chanin\n",
    "\n",
    "final_chain.invoke({\"요리\":\"김치찌개\"})"
   ]
  }
 ],
 "metadata": {
  "kernelspec": {
   "display_name": "env",
   "language": "python",
   "name": "python3"
  },
  "language_info": {
   "codemirror_mode": {
    "name": "ipython",
    "version": 3
   },
   "file_extension": ".py",
   "mimetype": "text/x-python",
   "name": "python",
   "nbconvert_exporter": "python",
   "pygments_lexer": "ipython3",
   "version": "3.11.6"
  }
 },
 "nbformat": 4,
 "nbformat_minor": 5
}
